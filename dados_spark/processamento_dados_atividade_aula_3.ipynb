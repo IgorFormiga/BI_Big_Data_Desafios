{
 "cells": [
  {
   "cell_type": "code",
   "execution_count": 1,
   "metadata": {},
   "outputs": [],
   "source": [
    "from pyspark.sql import SparkSession, dataframe\n",
    "from pyspark.sql.functions import when, col, sum, count, isnan\n",
    "from pyspark.sql.functions import regexp_replace\n",
    "from pyspark.sql.functions import rtrim"
   ]
  },
  {
   "cell_type": "code",
   "execution_count": 2,
   "metadata": {},
   "outputs": [],
   "source": [
    "# Criação da instância spark para leitura e criação de tabelas\n",
    "spark = SparkSession.builder.master(\"local[*]\").enableHiveSupport().getOrCreate()"
   ]
  },
  {
   "cell_type": "code",
   "execution_count": 3,
   "metadata": {},
   "outputs": [],
   "source": [
    "# Lendo tabela CLIENTES do HDFS:\n",
    "\n",
    "df_clientes = spark.read.options(delimiter=';', header=True).option('inferSchema','true')\\\n",
    "                                .csv('/dados_processamento/dados/CLIENTES.csv')"
   ]
  },
  {
   "cell_type": "code",
   "execution_count": 4,
   "metadata": {},
   "outputs": [],
   "source": [
    "# Lendo tabela DIVISAO do HDFS:\n",
    "\n",
    "df_divisao = spark.read.options(delimiter=';', header=True).option('inferSchema','true')\\\n",
    "                                .csv('/dados_processamento/dados/DIVISAO.csv')"
   ]
  },
  {
   "cell_type": "code",
   "execution_count": 5,
   "metadata": {},
   "outputs": [],
   "source": [
    "# Lendo tabela ENDERECO do HDFS:\n",
    "\n",
    "df_endereco = spark.read.options(delimiter=';', header=True).option('inferSchema','true')\\\n",
    "                                .csv('/dados_processamento/dados/ENDERECO.csv')"
   ]
  },
  {
   "cell_type": "code",
   "execution_count": 6,
   "metadata": {},
   "outputs": [],
   "source": [
    "# Lendo tabela REGIAO do HDFS:\n",
    "\n",
    "df_regiao = spark.read.options(delimiter=';', header=True).option('inferSchema','true')\\\n",
    "                                .csv('/dados_processamento/dados/REGIAO.csv')"
   ]
  },
  {
   "cell_type": "code",
   "execution_count": 7,
   "metadata": {},
   "outputs": [],
   "source": [
    "# Lendo tabela VENDAS do HDFS:\n",
    "\n",
    "df_vendas = spark.read.options(delimiter=';', header=True).option('inferSchema','true')\\\n",
    "                                .csv('/dados_processamento/dados/VENDAS.csv')"
   ]
  },
  {
   "cell_type": "code",
   "execution_count": 8,
   "metadata": {},
   "outputs": [
    {
     "name": "stdout",
     "output_type": "stream",
     "text": [
      "root\n",
      " |-- Address Number: integer (nullable = true)\n",
      " |-- Business Family: string (nullable = true)\n",
      " |-- Business Unit: integer (nullable = true)\n",
      " |-- Customer: string (nullable = true)\n",
      " |-- CustomerKey: integer (nullable = true)\n",
      " |-- Customer Type: string (nullable = true)\n",
      " |-- Division: integer (nullable = true)\n",
      " |-- Line of Business: string (nullable = true)\n",
      " |-- Phone: string (nullable = true)\n",
      " |-- Region Code: integer (nullable = true)\n",
      " |-- Regional Sales Mgr: string (nullable = true)\n",
      " |-- Search Type: string (nullable = true)\n",
      "\n"
     ]
    }
   ],
   "source": [
    "## Analisando a tabela Cliente\n",
    "\n",
    "df_clientes.printSchema()"
   ]
  },
  {
   "cell_type": "code",
   "execution_count": 9,
   "metadata": {},
   "outputs": [
    {
     "name": "stdout",
     "output_type": "stream",
     "text": [
      "+--------------+---------------+-------------+--------------------+-----------+-------------+--------+----------------+------------+-----------+------------------+-----------+\n",
      "|Address Number|Business Family|Business Unit|            Customer|CustomerKey|Customer Type|Division|Line of Business|       Phone|Region Code|Regional Sales Mgr|Search Type|\n",
      "+--------------+---------------+-------------+--------------------+-----------+-------------+--------+----------------+------------+-----------+------------------+-----------+\n",
      "|      10000000|             R3|            1|    City Supermarket|   10000000|           G2|       2|                |816-455-8733|          4|               S16|          C|\n",
      "|      10000453|             R3|            1|       A Supermarket|   10000453|           G1|       1|                |816-455-8733|          5|               S19|          C|\n",
      "|      10000455|             R3|            1|Caribian Supermarket|   10000455|           G2|       2|                |816-455-8733|          1|               S16|          C|\n",
      "|      10000456|             R1|            1|            A&B Shop|   10000456|           G3|       1|                |816-455-8733|          0|                S2|          C|\n",
      "|      10000457|             O2|            1|            A&G Shop|   10000457|           G1|       1|                |816-455-8733|          5|                S1|          C|\n",
      "|      10000458|             R3|            1|          A&R Market|   10000458|           G2|       2|                |816-455-8733|          4|                S9|          C|\n",
      "|      10000460|             R3|            1|        Meals Market|   10000460|           G2|       2|                |816-455-8733|          2|               S16|          C|\n",
      "|      10000461|             R1|            1|            A1 Store|   10000461|           G3|       1|                |816-455-8733|          0|                S2|          C|\n",
      "|      10000462|             R3|            1|            a2i Shop|   10000462|           G2|       2|                |816-455-8733|          4|                S1|          C|\n",
      "|      10000466|             R3|            1|           A2Z Store|   10000466|           G2|       2|                |816-455-8733|          1|               S16|          C|\n",
      "|      10000469|             R3|            1|   A-2-Z Supermarket|   10000469|           G3|       1|                |816-455-8733|          0|                S5|          C|\n",
      "|      10000471|             R3|            1|         Aadast Shop|   10000471|           G1|       1|              M1|816-455-8733|          5|               S19|          C|\n",
      "|      10000472|             R3|            1|         Aaron Store|   10000472|           G2|       2|                |816-455-8733|          1|                S4|          C|\n",
      "|      10000473|             R3|            1|   Aaron Supermarket|   10000473|           G2|       2|                |816-455-8733|          1|               S16|          C|\n",
      "|      10000474|             R2|            1|       A-ARVIN Store|   10000474|           G2|       2|                |816-455-8733|          4|                S9|          C|\n",
      "|      10000475|             R3|            1|      AA-Wizard Shop|   10000475|           G2|       2|                |816-455-8733|          2|               S16|          C|\n",
      "|      10000478|             R3|            1|       Abacus Market|   10000478|           G2|       2|                |816-455-8733|          2|               S16|          C|\n",
      "|      10000480|             R2|            1|     Abbotsbury Shop|   10000480|           G2|       2|                |816-455-8733|          1|                S5|          C|\n",
      "|      10000481|             R2|            1|         Abbott Shop|   10000481|           G2|       2|                |816-455-8733|          4|                S5|          C|\n",
      "|      10000486|             R3|            1|       Aberdeen Shop|   10000486|           G2|       1|                |816-455-8733|          5|               S14|          C|\n",
      "+--------------+---------------+-------------+--------------------+-----------+-------------+--------+----------------+------------+-----------+------------------+-----------+\n",
      "only showing top 20 rows\n",
      "\n"
     ]
    }
   ],
   "source": [
    "df_clientes.show()"
   ]
  },
  {
   "cell_type": "code",
   "execution_count": 10,
   "metadata": {},
   "outputs": [
    {
     "name": "stdout",
     "output_type": "stream",
     "text": [
      "+--------------+---------------+-------------+--------+-----------+-------------+--------+----------------+-----+-----------+------------------+-----------+\n",
      "|Address Number|Business Family|Business Unit|Customer|CustomerKey|Customer Type|Division|Line of Business|Phone|Region Code|Regional Sales Mgr|Search Type|\n",
      "+--------------+---------------+-------------+--------+-----------+-------------+--------+----------------+-----+-----------+------------------+-----------+\n",
      "|             0|              0|            0|       0|          0|            0|       0|               0|    0|          0|                 0|          0|\n",
      "+--------------+---------------+-------------+--------+-----------+-------------+--------+----------------+-----+-----------+------------------+-----------+\n",
      "\n"
     ]
    }
   ],
   "source": [
    "# Verificando a existência de dados Null ou NaN\n",
    "df_clientes.select([count(when(isnan(c) | col(c).isNull(), c)).alias(c) for c in df_clientes.columns]).show()"
   ]
  },
  {
   "cell_type": "code",
   "execution_count": 11,
   "metadata": {},
   "outputs": [
    {
     "name": "stdout",
     "output_type": "stream",
     "text": [
      "+--------------+---------------+-------------+--------------------+-----------+-------------+--------+----------------+------------+-----------+------------------+-----------+\n",
      "|Address Number|Business Family|Business Unit|            Customer|CustomerKey|Customer Type|Division|Line of Business|       Phone|Region Code|Regional Sales Mgr|Search Type|\n",
      "+--------------+---------------+-------------+--------------------+-----------+-------------+--------+----------------+------------+-----------+------------------+-----------+\n",
      "|      10000000|             R3|            1|    City Supermarket|   10000000|           G2|       2|   não informado|816-455-8733|          4|               S16|          C|\n",
      "|      10000453|             R3|            1|       A Supermarket|   10000453|           G1|       1|   não informado|816-455-8733|          5|               S19|          C|\n",
      "|      10000455|             R3|            1|Caribian Supermarket|   10000455|           G2|       2|   não informado|816-455-8733|          1|               S16|          C|\n",
      "|      10000456|             R1|            1|            A&B Shop|   10000456|           G3|       1|   não informado|816-455-8733|          0|                S2|          C|\n",
      "|      10000457|             O2|            1|            A&G Shop|   10000457|           G1|       1|   não informado|816-455-8733|          5|                S1|          C|\n",
      "|      10000458|             R3|            1|          A&R Market|   10000458|           G2|       2|   não informado|816-455-8733|          4|                S9|          C|\n",
      "|      10000460|             R3|            1|        Meals Market|   10000460|           G2|       2|   não informado|816-455-8733|          2|               S16|          C|\n",
      "|      10000461|             R1|            1|            A1 Store|   10000461|           G3|       1|   não informado|816-455-8733|          0|                S2|          C|\n",
      "|      10000462|             R3|            1|            a2i Shop|   10000462|           G2|       2|   não informado|816-455-8733|          4|                S1|          C|\n",
      "|      10000466|             R3|            1|           A2Z Store|   10000466|           G2|       2|   não informado|816-455-8733|          1|               S16|          C|\n",
      "|      10000469|             R3|            1|   A-2-Z Supermarket|   10000469|           G3|       1|   não informado|816-455-8733|          0|                S5|          C|\n",
      "|      10000471|             R3|            1|         Aadast Shop|   10000471|           G1|       1|              M1|816-455-8733|          5|               S19|          C|\n",
      "|      10000472|             R3|            1|         Aaron Store|   10000472|           G2|       2|   não informado|816-455-8733|          1|                S4|          C|\n",
      "|      10000473|             R3|            1|   Aaron Supermarket|   10000473|           G2|       2|   não informado|816-455-8733|          1|               S16|          C|\n",
      "|      10000474|             R2|            1|       A-ARVIN Store|   10000474|           G2|       2|   não informado|816-455-8733|          4|                S9|          C|\n",
      "|      10000475|             R3|            1|      AA-Wizard Shop|   10000475|           G2|       2|   não informado|816-455-8733|          2|               S16|          C|\n",
      "|      10000478|             R3|            1|       Abacus Market|   10000478|           G2|       2|   não informado|816-455-8733|          2|               S16|          C|\n",
      "|      10000480|             R2|            1|     Abbotsbury Shop|   10000480|           G2|       2|   não informado|816-455-8733|          1|                S5|          C|\n",
      "|      10000481|             R2|            1|         Abbott Shop|   10000481|           G2|       2|   não informado|816-455-8733|          4|                S5|          C|\n",
      "|      10000486|             R3|            1|       Aberdeen Shop|   10000486|           G2|       1|   não informado|816-455-8733|          5|               S14|          C|\n",
      "+--------------+---------------+-------------+--------------------+-----------+-------------+--------+----------------+------------+-----------+------------------+-----------+\n",
      "only showing top 20 rows\n",
      "\n"
     ]
    }
   ],
   "source": [
    "'''\n",
    "Como a tabale não possui valores Null ou NaN, é necessário apenas alterar a coluna \"Line of Business\" que possuia a \n",
    "str \"   \" (três espaços) representando o campo não informado.\n",
    "'''\n",
    "# df_clientes.filter(col(\"Line of Business\") == '   ').show()\n",
    "\n",
    "df_clientes = df_clientes.withColumn('Line of Business', regexp_replace('Line of Business','   ', 'não informado'))\n",
    "df_clientes.show()"
   ]
  },
  {
   "cell_type": "code",
   "execution_count": 12,
   "metadata": {},
   "outputs": [
    {
     "name": "stdout",
     "output_type": "stream",
     "text": [
      "root\n",
      " |-- Address Number: integer (nullable = true)\n",
      " |-- City: string (nullable = true)\n",
      " |-- Country: string (nullable = true)\n",
      " |-- Customer Address 1: string (nullable = true)\n",
      " |-- Customer Address 2: string (nullable = true)\n",
      " |-- Customer Address 3: string (nullable = true)\n",
      " |-- Customer Address 4: string (nullable = true)\n",
      " |-- State: string (nullable = true)\n",
      " |-- Zip Code: string (nullable = true)\n",
      "\n"
     ]
    }
   ],
   "source": [
    "df_endereco.printSchema()"
   ]
  },
  {
   "cell_type": "code",
   "execution_count": 13,
   "metadata": {},
   "outputs": [
    {
     "name": "stdout",
     "output_type": "stream",
     "text": [
      "+--------------+--------------------+-------+--------------------+--------------------+--------------------+--------------------+-----+------------+\n",
      "|Address Number|                City|Country|  Customer Address 1|  Customer Address 2|  Customer Address 3|  Customer Address 4|State|    Zip Code|\n",
      "+--------------+--------------------+-------+--------------------+--------------------+--------------------+--------------------+-----+------------+\n",
      "|      10000000|               Akron|     US|         PO Box 6258|                 ...|                 ...|                 ...|   OH|       44312|\n",
      "|      10000453|                 ...|     UK|                 ...|                 ...|                 ...|                 ...| null|            |\n",
      "|      10000455|    Huntington Beach|     US|   7392 Count Circle|                 ...|                 ...|                 ...|   CA|       92647|\n",
      "|      10000456|            Edmonton|     CA|    8151 Wagner Road|                 ...|                 ...|                 ...|   AB|     T6E 4N6|\n",
      "|      10000458|             Saginaw|     US|          PO Box 840|                 ...|                 ...|                 ...|   MI|       48606|\n",
      "|      10000460|      Goodlettsville|     US|709 Rivergate Par...|                 ...|                 ...|                 ...|   TN|       37072|\n",
      "|      10000461|        Boucherville|     CA|     1391 Gay Lussac|                 ...|                 ...|                 ...|   QU|     J4B 7K1|\n",
      "|      10000462|           Hazelwood|     US|6311 North Lindbe...|                 ...|                 ...|                 ...|   MO|       63042|\n",
      "|      10000466|     North Highlands|     US|3213 Orange Grove...|                 ...|                 ...|                 ...|   CA|       95660|\n",
      "|      10000469|            Montreal|     CA|Attention:  Accou...|7025 Ontario Stre...|                 ...|                 ...|   QU|     H1N 2B3|\n",
      "|      10000471|              Jeddah|     AU|    Al Thalia Street|        PO Box 11605|                 ...|                 ...| null|       11443|\n",
      "|      10000472|            Van Nuys|     US| 8000 Haskell Avenue|                 ...|                 ...|                 ...|   CA|       91406|\n",
      "|      10000473|      Rancho Cordova|     US|3290 Monier Circl...|                 ...|                 ...|                 ...|   CA|       95742|\n",
      "|      10000474|          Des Moines|     US|         PO Box 3265|                 ...|                 ...|                 ...|   IA|       50316|\n",
      "|      10000475|           Charlotte|     US| 5745 N Tryon Street|                 ...|                 ...|                 ...|   NC|       28213|\n",
      "|      10000478|         Little Rock|     US|8120 E Doyle Spri...|                 ...|                 ...|                 ...|   AR|       72209|\n",
      "|      10000480|             Phoenix|     US|Attention: Accoun...|        PO Box 21502|                 ...|                 ...|   AZ|  85036-1502|\n",
      "|      10000481|             Chicago|     US|            Box 5516|                 ...|                 ...|                 ...|   IL|       60680|\n",
      "|      10000601|           Creedmoor|     US|  1550 Aereli Avenue|                 ...|                 ...|                 ...|   NC|       27522|\n",
      "|      10002220|       Prince George|     CA|1594 Nicholson St...|                 ...|                 ...|                 ...|   BC|     V2N 1V6|\n",
      "+--------------+--------------------+-------+--------------------+--------------------+--------------------+--------------------+-----+------------+\n",
      "only showing top 20 rows\n",
      "\n"
     ]
    }
   ],
   "source": [
    "df_endereco.show()"
   ]
  },
  {
   "cell_type": "code",
   "execution_count": 27,
   "metadata": {},
   "outputs": [
    {
     "name": "stdout",
     "output_type": "stream",
     "text": [
      "+--------------+----+-------+------------------+------------------+------------------+------------------+-----+--------+\n",
      "|Address Number|City|Country|Customer Address 1|Customer Address 2|Customer Address 3|Customer Address 4|State|Zip Code|\n",
      "+--------------+----+-------+------------------+------------------+------------------+------------------+-----+--------+\n",
      "|             0|   0|      0|                 0|                 0|                 0|                 0|    0|       0|\n",
      "+--------------+----+-------+------------------+------------------+------------------+------------------+-----+--------+\n",
      "\n"
     ]
    }
   ],
   "source": [
    "# Verificando a existência de dados Null ou NaN\n",
    "df_endereco.select([count(when(isnan(c) | col(c).isNull(), c)).alias(c) for c in df_endereco.columns]).show()"
   ]
  },
  {
   "cell_type": "code",
   "execution_count": 15,
   "metadata": {},
   "outputs": [
    {
     "name": "stdout",
     "output_type": "stream",
     "text": [
      "+--------------+----------------+-------+--------------------+--------------------+------------------+------------------+-------------+-------------+\n",
      "|Address Number|            City|Country|  Customer Address 1|  Customer Address 2|Customer Address 3|Customer Address 4|        State|     Zip Code|\n",
      "+--------------+----------------+-------+--------------------+--------------------+------------------+------------------+-------------+-------------+\n",
      "|      10000000|           Akron|     US|         PO Box 6258|       não informado|     não informado|     não informado|           OH|        44312|\n",
      "|      10000453|   não informado|     UK|       não informado|       não informado|     não informado|     não informado|não informado|não informado|\n",
      "|      10000455|Huntington Beach|     US|   7392 Count Circle|       não informado|     não informado|     não informado|           CA|        92647|\n",
      "|      10000456|        Edmonton|     CA|    8151 Wagner Road|       não informado|     não informado|     não informado|           AB|      T6E 4N6|\n",
      "|      10000458|         Saginaw|     US|          PO Box 840|       não informado|     não informado|     não informado|           MI|        48606|\n",
      "|      10000460|  Goodlettsville|     US|709 Rivergate Par...|       não informado|     não informado|     não informado|           TN|        37072|\n",
      "|      10000461|    Boucherville|     CA|     1391 Gay Lussac|       não informado|     não informado|     não informado|           QU|      J4B 7K1|\n",
      "|      10000462|       Hazelwood|     US|6311 North Lindbe...|       não informado|     não informado|     não informado|           MO|        63042|\n",
      "|      10000466| North Highlands|     US|3213 Orange Grove...|       não informado|     não informado|     não informado|           CA|        95660|\n",
      "|      10000469|        Montreal|     CA|Attention:  Accou...|7025 Ontario Stre...|     não informado|     não informado|           QU|      H1N 2B3|\n",
      "|      10000471|          Jeddah|     AU|    Al Thalia Street|        PO Box 11605|     não informado|     não informado|não informado|        11443|\n",
      "|      10000472|        Van Nuys|     US| 8000 Haskell Avenue|       não informado|     não informado|     não informado|           CA|        91406|\n",
      "|      10000473|  Rancho Cordova|     US|3290 Monier Circl...|       não informado|     não informado|     não informado|           CA|        95742|\n",
      "|      10000474|      Des Moines|     US|         PO Box 3265|       não informado|     não informado|     não informado|           IA|        50316|\n",
      "|      10000475|       Charlotte|     US| 5745 N Tryon Street|       não informado|     não informado|     não informado|           NC|        28213|\n",
      "|      10000478|     Little Rock|     US|8120 E Doyle Spri...|       não informado|     não informado|     não informado|           AR|        72209|\n",
      "|      10000480|         Phoenix|     US|Attention: Accoun...|        PO Box 21502|     não informado|     não informado|           AZ|   85036-1502|\n",
      "|      10000481|         Chicago|     US|            Box 5516|       não informado|     não informado|     não informado|           IL|        60680|\n",
      "|      10000601|       Creedmoor|     US|  1550 Aereli Avenue|       não informado|     não informado|     não informado|           NC|        27522|\n",
      "|      10002220|   Prince George|     CA|1594 Nicholson St...|       não informado|     não informado|     não informado|           BC|      V2N 1V6|\n",
      "+--------------+----------------+-------+--------------------+--------------------+------------------+------------------+-------------+-------------+\n",
      "only showing top 20 rows\n",
      "\n"
     ]
    }
   ],
   "source": [
    "'''\n",
    "Pela inspeção visual foi possível perceber que uma série de colunas possui dados faltentes, onde esses campos são preenchido \n",
    "por um conjunto de espaços (space). Dependendo da coluna a quantidade de espaços variam. No intuito de uniformizar os campos\n",
    "que não possuiam dados apenas espaços, foi utilizado a função rtrim (remove espaços a direita).O resultado da aplicação desta\n",
    "função nos campos onde só possuiam espaços é o retorno do campo vazio (''). Logo, aplicando a substituição dos valores nos \n",
    "campos vazios, resolvemos uma parte do problema.\n",
    "\n",
    "O segundo problema encontrado na tabela foi 70 valores Null na coluna 'state'. Então foi utilizado o método isNull para\n",
    "identificar os campos nulos e a função when para subsitui-los.\n",
    "'''\n",
    "\n",
    "\n",
    "for c in df_endereco.columns:\n",
    "    df_endereco = df_endereco.withColumn(c,rtrim(df_endereco[c]))\n",
    "    df_endereco = df_endereco.withColumn(c, when(df_endereco[c] == '', 'não informado')\\\n",
    "                                         .when(df_endereco[c].isNull(), 'não informado')\\\n",
    "                                         .otherwise(df_endereco[c]))\n",
    "\n",
    "df_endereco.show()"
   ]
  },
  {
   "cell_type": "code",
   "execution_count": 29,
   "metadata": {},
   "outputs": [
    {
     "name": "stdout",
     "output_type": "stream",
     "text": [
      "+--------------+----+-------+------------------+------------------+------------------+------------------+-----+--------+\n",
      "|Address Number|City|Country|Customer Address 1|Customer Address 2|Customer Address 3|Customer Address 4|State|Zip Code|\n",
      "+--------------+----+-------+------------------+------------------+------------------+------------------+-----+--------+\n",
      "|             0|   0|      0|                 0|                 0|                 0|                 0|    0|       0|\n",
      "+--------------+----+-------+------------------+------------------+------------------+------------------+-----+--------+\n",
      "\n"
     ]
    }
   ],
   "source": [
    "# Verificando a existência de dados Null ou NaN\n",
    "df_endereco.select([count(when(isnan(c) | col(c).isNull(), c)).alias(c) for c in df_endereco.columns]).show()"
   ]
  },
  {
   "cell_type": "code",
   "execution_count": 16,
   "metadata": {},
   "outputs": [
    {
     "name": "stdout",
     "output_type": "stream",
     "text": [
      "+--------------------+-----------+----------+---------------+------------+--------------+----------+-----------+--------------------+-----------+----------+------------+----------------------+------------+--------------------------------+-----------------+-------------------+-----------+--------------+---------+---+\n",
      "|Actual Delivery Date|CustomerKey|   DateKey|Discount Amount|Invoice Date|Invoice Number|Item Class|Item Number|                Item|Line Number|List Price|Order Number|Promised Delivery Date|Sales Amount|Sales Amount Based on List Price|Sales Cost Amount|Sales Margin Amount|Sales Price|Sales Quantity|Sales Rep|U/M|\n",
      "+--------------------+-----------+----------+---------------+------------+--------------+----------+-----------+--------------------+-----------+----------+------------+----------------------+------------+--------------------------------+-----------------+-------------------+-----------+--------------+---------+---+\n",
      "|          28/04/2019|   10000481|28/04/2018|        -237,91|  30/04/2018|        100012|      null|       null|    Urban Large Eggs|       2000|         0|      200015|            28/04/2019|      237,91|                               0|                0|             237,91|     237,91|             1|      184| EA|\n",
      "|          12/07/2019|   10002220|12/07/2018|         368,79|  14/07/2018|        100233|       P01|      20910|  Moms Sliced Turkey|       1000|    824,96|      200245|            12/07/2019|      456,17|                          824,96|                0|             456,17|     456,17|             1|      127| EA|\n",
      "|          14/10/2019|   10002220|15/10/2018|         109,73|  17/10/2018|        116165|       P01|      38076|Cutting Edge Foot...|       1000|    548,66|      213157|            14/10/2019|      438,93|                          548,66|                0|             438,93|     438,93|             1|      127| EA|\n",
      "|          01/06/2019|   10002489|01/06/2018|        -211,75|  03/06/2018|        100096|      null|       null|            Kiwi Lox|       1000|         0|      200107|            01/06/2019|      211,75|                               0|                0|             211,75|     211,75|             1|      160| EA|\n",
      "|          26/05/2019|   10004516|25/05/2018|       96627,94|  27/05/2018|        103341|       P01|      60776|High Top Sweet Onion|       1000|    408,52|      203785|            26/05/2019|    89248,66|                        185876,6|                0|           89248,66|196,1509011|           455|      124| SE|\n",
      "|          28/05/2019|   10004516|28/05/2018|          -1950|  30/05/2018|        103610|      null|       null|Best Choice Fudge...|       2000|         0|      203785|            28/05/2019|        1950|                               0|                0|               1950|       1950|             1|      124| EA|\n",
      "|          01/09/2019|   10007866|01/09/2018|        371,014|  03/09/2018|        100403|       P01|      20910|  Moms Sliced Turkey|       2000|   795,314|      200436|            01/09/2019|       424,3|                         795,314|                0|              424,3|      424,3|             1|      149| EA|\n",
      "|          16/06/2019|   10009356|16/06/2018|         608,08|  18/06/2018|        105481|       P01|      62550|    Tell Tale Garlic|      29000|       575|      205213|            16/06/2019|      541,92|                            1150|                0|             541,92|     270,96|             2|      103| EA|\n",
      "|          16/06/2019|   10009356|16/06/2018|          424,8|  18/06/2018|        105481|       P01|      60794|    High Top Walnuts|      18000|     51,88|      205213|            16/06/2019|       353,4|                           778,2|                0|              353,4|      23,56|            15|      103| EA|\n",
      "|          16/06/2019|   10009356|16/06/2018|        13492,8|  18/06/2018|        105481|       P01|      36001|Big Time Frozen C...|       9000|    412,03|      205213|            16/06/2019|       11229|                         24721,8|                0|              11229|     187,15|            60|      103| EA|\n",
      "|          16/06/2019|   10009356|16/06/2018|        10481,1|  18/06/2018|        105481|       P01|      38076|Cutting Edge Foot...|      13000|    548,66|      205213|            16/06/2019|        8722|                         19203,1|                0|               8722|      249,2|            35|      103| EA|\n",
      "|          16/06/2019|   10009356|16/06/2018|       404,1465|  18/06/2018|        105481|       P01|      61484|Super Creamy Pean...|      37000|   50,5051|      205213|            16/06/2019|      353,43|                        757,5765|                0|             353,43|     23,562|            15|      103| EA|\n",
      "|          14/09/2019|   10009606|14/09/2018|      1287,3476|  16/09/2018|        100445|       P01|      17801|Better Fancy Cann...|       3000| 1379,7938|      200478|            14/09/2019|     1472,24|                       2759,5876|                0|            1472,24|     736,12|             2|      118| EA|\n",
      "|          14/09/2019|   10009606|14/09/2018|        4764,33|  16/09/2018|        100445|       P01|      48500|Red Spade Low Fat...|       1000|   1134,77|      200478|            14/09/2019|      5448,6|                        10212,93|                0|             5448,6|      605,4|             9|      118| EA|\n",
      "|          04/06/2019|   10009633|08/06/2018|        -526,64|  10/06/2018|        104708|      null|      38631|    Jumbo Large Eggs|       1000|         0|      204575|            04/06/2019|      526,64|                               0|                0|             526,64|     526,64|             1|      127| EA|\n",
      "|          16/08/2019|   10009633|18/08/2018|              0|  20/08/2018|        100379|       P01|      60449|High Top Corn on ...|       1000|    346,53|      200397|            16/08/2019|      346,53|                          346,53|                0|             346,53|     346,53|             1|      127| EA|\n",
      "|          12/11/2019|   10009645|15/11/2018|              0|  17/11/2018|        100684|      null|      61801|Moms Low Fat Bologna|       2000|    258,01|      200733|            12/11/2019|     3096,12|                         3096,12|                0|            3096,12|     258,01|            12|      155| EA|\n",
      "|          12/05/2019|   10009652|12/05/2018|             91|  14/05/2018|        102256|      null|      63113|Landslide Columbi...|       1000|      5,61|      202989|            12/05/2019|      1872,5|                          1963,5|                0|             1872,5|       5,35|           350|      145| EA|\n",
      "|          12/05/2019|   10009652|12/05/2018|           -700|  14/05/2018|        102256|      null|       null|High Top Dried Mu...|       2000|         0|      202989|            12/05/2019|         700|                               0|                0|                700|          2|           350|      145| EA|\n",
      "|          04/11/2019|   10009907|04/11/2018|          786,6|  06/11/2018|        117815|       P01|      38050|Gorilla Chocolate...|       2000|    301,23|      200706|            04/11/2019|      418,32|                         1204,92|                0|             418,32|     104,58|             4|      167| EA|\n",
      "+--------------------+-----------+----------+---------------+------------+--------------+----------+-----------+--------------------+-----------+----------+------------+----------------------+------------+--------------------------------+-----------------+-------------------+-----------+--------------+---------+---+\n",
      "only showing top 20 rows\n",
      "\n"
     ]
    }
   ],
   "source": [
    "df_vendas.show()"
   ]
  },
  {
   "cell_type": "code",
   "execution_count": 17,
   "metadata": {},
   "outputs": [
    {
     "name": "stdout",
     "output_type": "stream",
     "text": [
      "root\n",
      " |-- Actual Delivery Date: string (nullable = true)\n",
      " |-- CustomerKey: integer (nullable = true)\n",
      " |-- DateKey: string (nullable = true)\n",
      " |-- Discount Amount: string (nullable = true)\n",
      " |-- Invoice Date: string (nullable = true)\n",
      " |-- Invoice Number: integer (nullable = true)\n",
      " |-- Item Class: string (nullable = true)\n",
      " |-- Item Number: string (nullable = true)\n",
      " |-- Item: string (nullable = true)\n",
      " |-- Line Number: integer (nullable = true)\n",
      " |-- List Price: string (nullable = true)\n",
      " |-- Order Number: integer (nullable = true)\n",
      " |-- Promised Delivery Date: string (nullable = true)\n",
      " |-- Sales Amount: string (nullable = true)\n",
      " |-- Sales Amount Based on List Price: string (nullable = true)\n",
      " |-- Sales Cost Amount: string (nullable = true)\n",
      " |-- Sales Margin Amount: string (nullable = true)\n",
      " |-- Sales Price: string (nullable = true)\n",
      " |-- Sales Quantity: integer (nullable = true)\n",
      " |-- Sales Rep: integer (nullable = true)\n",
      " |-- U/M: string (nullable = true)\n",
      "\n"
     ]
    }
   ],
   "source": [
    "df_vendas.printSchema()"
   ]
  },
  {
   "cell_type": "code",
   "execution_count": 18,
   "metadata": {},
   "outputs": [
    {
     "name": "stdout",
     "output_type": "stream",
     "text": [
      "+--------------------+-----------+-------+---------------+------------+--------------+----------+-----------+----+-----------+----------+------------+----------------------+------------+--------------------------------+-----------------+-------------------+-----------+--------------+---------+---+\n",
      "|Actual Delivery Date|CustomerKey|DateKey|Discount Amount|Invoice Date|Invoice Number|Item Class|Item Number|Item|Line Number|List Price|Order Number|Promised Delivery Date|Sales Amount|Sales Amount Based on List Price|Sales Cost Amount|Sales Margin Amount|Sales Price|Sales Quantity|Sales Rep|U/M|\n",
      "+--------------------+-----------+-------+---------------+------------+--------------+----------+-----------+----+-----------+----------+------------+----------------------+------------+--------------------------------+-----------------+-------------------+-----------+--------------+---------+---+\n",
      "|                 253|        253|    253|            255|         253|           253|      8542|        294| 253|        253|       253|         253|                   253|         253|                             253|              253|                253|        254|           253|      253|253|\n",
      "+--------------------+-----------+-------+---------------+------------+--------------+----------+-----------+----+-----------+----------+------------+----------------------+------------+--------------------------------+-----------------+-------------------+-----------+--------------+---------+---+\n",
      "\n"
     ]
    }
   ],
   "source": [
    "# Verificando a existência de dados Null ou NaN\n",
    "df_vendas.select([count(when(isnan(c) | col(c).isNull(), c)).alias(c) for c in df_vendas.columns]).show()"
   ]
  },
  {
   "cell_type": "code",
   "execution_count": 19,
   "metadata": {},
   "outputs": [
    {
     "name": "stdout",
     "output_type": "stream",
     "text": [
      "+--------------------+-----------+-------+---------------+------------+--------------+----------+-----------+----+-----------+----------+------------+----------------------+------------+--------------------------------+-----------------+-------------------+-----------+--------------+---------+----+\n",
      "|Actual Delivery Date|CustomerKey|DateKey|Discount Amount|Invoice Date|Invoice Number|Item Class|Item Number|Item|Line Number|List Price|Order Number|Promised Delivery Date|Sales Amount|Sales Amount Based on List Price|Sales Cost Amount|Sales Margin Amount|Sales Price|Sales Quantity|Sales Rep| U/M|\n",
      "+--------------------+-----------+-------+---------------+------------+--------------+----------+-----------+----+-----------+----------+------------+----------------------+------------+--------------------------------+-----------------+-------------------+-----------+--------------+---------+----+\n",
      "|                null|       null|   null|           null|        null|          null|      null|       null|null|       null|      null|        null|                  null|        null|                            null|             null|               null|       null|          null|     null|null|\n",
      "|                null|       null|   null|           null|        null|          null|      null|       null|null|       null|      null|        null|                  null|        null|                            null|             null|               null|       null|          null|     null|null|\n",
      "|                null|       null|   null|           null|        null|          null|      null|       null|null|       null|      null|        null|                  null|        null|                            null|             null|               null|       null|          null|     null|null|\n",
      "|                null|       null|   null|           null|        null|          null|      null|       null|null|       null|      null|        null|                  null|        null|                            null|             null|               null|       null|          null|     null|null|\n",
      "|                null|       null|   null|           null|        null|          null|      null|       null|null|       null|      null|        null|                  null|        null|                            null|             null|               null|       null|          null|     null|null|\n",
      "+--------------------+-----------+-------+---------------+------------+--------------+----------+-----------+----+-----------+----------+------------+----------------------+------------+--------------------------------+-----------------+-------------------+-----------+--------------+---------+----+\n",
      "only showing top 5 rows\n",
      "\n"
     ]
    }
   ],
   "source": [
    "'''\n",
    "É possivel verificar que algumas linhas possuem todos os campos nulos, logo, iremos deletar todas estas linhas. Para selecionar\n",
    "as linhas onde todos os campos são nulos, basta verificar as 3 primeiras colunas.\n",
    "'''\n",
    "df_vendas.filter(((col(\"Actual Delivery Date\").isNull()) & (col(\"CustomerKey\").isNull()) & (col(\"DateKey\").isNull()))).show(5)"
   ]
  },
  {
   "cell_type": "code",
   "execution_count": 20,
   "metadata": {},
   "outputs": [],
   "source": [
    "# Removendo do dataframe todas as linhas que possuem todos os campos nulos\n",
    "df_vendas = df_vendas.filter(((col(\"Actual Delivery Date\").isNotNull())\\\n",
    "                              & (col(\"CustomerKey\").isNotNull())\\\n",
    "                              & (col(\"DateKey\").isNotNull())))"
   ]
  },
  {
   "cell_type": "code",
   "execution_count": 21,
   "metadata": {},
   "outputs": [
    {
     "name": "stdout",
     "output_type": "stream",
     "text": [
      "+--------------------+-----------+-------+---------------+------------+--------------+----------+-----------+----+-----------+----------+------------+----------------------+------------+--------------------------------+-----------------+-------------------+-----------+--------------+---------+---+\n",
      "|Actual Delivery Date|CustomerKey|DateKey|Discount Amount|Invoice Date|Invoice Number|Item Class|Item Number|Item|Line Number|List Price|Order Number|Promised Delivery Date|Sales Amount|Sales Amount Based on List Price|Sales Cost Amount|Sales Margin Amount|Sales Price|Sales Quantity|Sales Rep|U/M|\n",
      "+--------------------+-----------+-------+---------------+------------+--------------+----------+-----------+----+-----------+----------+------------+----------------------+------------+--------------------------------+-----------------+-------------------+-----------+--------------+---------+---+\n",
      "|                   0|          0|      0|              2|           0|             0|      8289|         41|   0|          0|         0|           0|                     0|           0|                               0|                0|                  0|          1|             0|        0|  0|\n",
      "+--------------------+-----------+-------+---------------+------------+--------------+----------+-----------+----+-----------+----------+------------+----------------------+------------+--------------------------------+-----------------+-------------------+-----------+--------------+---------+---+\n",
      "\n"
     ]
    }
   ],
   "source": [
    "# Verificando novamente a existência de dados Null ou NaN para visualizar se as linhas nulas foram removidas\n",
    "df_vendas.select([count(when(isnan(c) | col(c).isNull(), c)).alias(c) for c in df_vendas.columns]).show()"
   ]
  },
  {
   "cell_type": "code",
   "execution_count": 22,
   "metadata": {},
   "outputs": [],
   "source": [
    "from pyspark.sql.types import StructType, StructField\n",
    "from pyspark.sql.types import DoubleType, IntegerType, StringType, FloatType\n",
    "from pyspark.sql.functions import unix_timestamp, from_unixtime, to_date"
   ]
  },
  {
   "cell_type": "code",
   "execution_count": null,
   "metadata": {},
   "outputs": [],
   "source": [
    "from pyspark.sql.functions import *\n",
    "df=spark.createDataFrame([[\"02/03/2013\"],[\"05/06/2023\"]],[\"input\"])\n",
    "df_vendas.select(col(\"Promised Delivery Date\"),to_date(col(\"Promised Delivery Date\"),\"dd/MM/yyyy\").alias(\"Promised Delivery Date\")) \\\n",
    "  .show()"
   ]
  },
  {
   "cell_type": "code",
   "execution_count": 23,
   "metadata": {},
   "outputs": [],
   "source": [
    "# Antes de continuar com limpeza dos dados vamos corrigir as colunas que estão com os tipos errados de dados\n",
    "cols_float = ['Discount Amount', 'List Price', 'Sales Amount', 'Sales Amount Based on List Price', 'Sales Margin Amount',\\\n",
    "              'Sales Price']\n",
    "\n",
    "for col_name in cols_float:\n",
    "    df_vendas = df_vendas.withColumn(col_name, col(col_name).cast('float'))\n",
    "    \n",
    "cols_dates = ['Actual Delivery Date', 'DateKey', 'Invoice Date', 'Promised Delivery Date']\n",
    "\n",
    "for col_name_data in cols_dates:\n",
    "    df_vendas = df_vendas.withColumn(col_name_data, to_date(col(col_name_data),\"dd/MM/yyyy\"))\n",
    "    "
   ]
  },
  {
   "cell_type": "code",
   "execution_count": 24,
   "metadata": {},
   "outputs": [
    {
     "name": "stdout",
     "output_type": "stream",
     "text": [
      "root\n",
      " |-- Actual Delivery Date: date (nullable = true)\n",
      " |-- CustomerKey: integer (nullable = true)\n",
      " |-- DateKey: date (nullable = true)\n",
      " |-- Discount Amount: float (nullable = true)\n",
      " |-- Invoice Date: date (nullable = true)\n",
      " |-- Invoice Number: integer (nullable = true)\n",
      " |-- Item Class: string (nullable = true)\n",
      " |-- Item Number: string (nullable = true)\n",
      " |-- Item: string (nullable = true)\n",
      " |-- Line Number: integer (nullable = true)\n",
      " |-- List Price: float (nullable = true)\n",
      " |-- Order Number: integer (nullable = true)\n",
      " |-- Promised Delivery Date: date (nullable = true)\n",
      " |-- Sales Amount: float (nullable = true)\n",
      " |-- Sales Amount Based on List Price: float (nullable = true)\n",
      " |-- Sales Cost Amount: string (nullable = true)\n",
      " |-- Sales Margin Amount: float (nullable = true)\n",
      " |-- Sales Price: float (nullable = true)\n",
      " |-- Sales Quantity: integer (nullable = true)\n",
      " |-- Sales Rep: integer (nullable = true)\n",
      " |-- U/M: string (nullable = true)\n",
      "\n"
     ]
    }
   ],
   "source": [
    "df_vendas.printSchema()"
   ]
  },
  {
   "cell_type": "code",
   "execution_count": 25,
   "metadata": {},
   "outputs": [],
   "source": [
    "# Realizando a limpeza dos dados que são nulos na tabela\n",
    "\n",
    "for c in df_vendas.columns:\n",
    "    if (str(df_vendas.schema[c].dataType) == 'StringType'):\n",
    "        df_vendas = df_vendas.withColumn(c, when(df_vendas[c].isNull(), 'não informado').otherwise(df_vendas[c]))\n",
    "    if (str(df_vendas.schema[c].dataType) == 'FloatType'):\n",
    "        df_vendas = df_vendas.withColumn(c, when(df_vendas[c].isNull(), 0.0).otherwise(df_vendas[c]))\n",
    "        \n"
   ]
  },
  {
   "cell_type": "code",
   "execution_count": 28,
   "metadata": {},
   "outputs": [
    {
     "name": "stdout",
     "output_type": "stream",
     "text": [
      "+--------------------+-----------+-------+---------------+------------+--------------+----------+-----------+----+-----------+----------+------------+----------------------+------------+--------------------------------+-----------------+-------------------+-----------+--------------+---------+---+\n",
      "|Actual Delivery Date|CustomerKey|DateKey|Discount Amount|Invoice Date|Invoice Number|Item Class|Item Number|Item|Line Number|List Price|Order Number|Promised Delivery Date|Sales Amount|Sales Amount Based on List Price|Sales Cost Amount|Sales Margin Amount|Sales Price|Sales Quantity|Sales Rep|U/M|\n",
      "+--------------------+-----------+-------+---------------+------------+--------------+----------+-----------+----+-----------+----------+------------+----------------------+------------+--------------------------------+-----------------+-------------------+-----------+--------------+---------+---+\n",
      "|                   0|          0|      0|              0|           0|             0|         0|          0|   0|          0|         0|           0|                     0|           0|                               0|                0|                  0|          0|             0|        0|  0|\n",
      "+--------------------+-----------+-------+---------------+------------+--------------+----------+-----------+----+-----------+----------+------------+----------------------+------------+--------------------------------+-----------------+-------------------+-----------+--------------+---------+---+\n",
      "\n"
     ]
    }
   ],
   "source": [
    "# Verificando novamente a existência de dados Null ou NaN para visualizar se as linhas nulas foram removidas\n",
    "df_vendas.select([count(when(col(c).isNull(), c)).alias(c) for c in df_vendas.columns]).show()"
   ]
  },
  {
   "cell_type": "code",
   "execution_count": 72,
   "metadata": {},
   "outputs": [],
   "source": [
    "'''\n",
    "5 - efetuar as responder as perguntas:\n",
    "\n",
    "- quantos pedidos foram realizados\n",
    "- quantos clientes tem em nossa base\n",
    "- quantos clientes temos por Região\n",
    "- quantidade de vendas em 2018\n",
    "'''\n",
    "\n",
    "# Criando as views:\n",
    "df_clientes.createOrReplaceTempView('vw_clientes')\n",
    "df_vendas.createOrReplaceTempView('vw_vendas')\n",
    "df_regiao.createOrReplaceTempView('vw_regiao')"
   ]
  },
  {
   "cell_type": "code",
   "execution_count": 71,
   "metadata": {},
   "outputs": [
    {
     "name": "stdout",
     "output_type": "stream",
     "text": [
      "+-------------+\n",
      "|Num_registros|\n",
      "+-------------+\n",
      "|        65282|\n",
      "+-------------+\n",
      "\n"
     ]
    }
   ],
   "source": [
    "# REPOSTA PARA - QUANTOS PEDIDOS FORAM REALIZADOS\n",
    "spark.sql('''\n",
    "            SELECT \n",
    "            COUNT(*) AS Num_registros\n",
    "            FROM vw_vendas\n",
    "        ''').show()"
   ]
  },
  {
   "cell_type": "code",
   "execution_count": null,
   "metadata": {},
   "outputs": [],
   "source": [
    "# REPOSTA PARA - QUANTOS CLIENTES TEM EM NOSSA BASE\n",
    "'''\n",
    "Quantidade de clientes na base de dados é definida pela quantidade total de linhas, e não pela quantidade distinta de \n",
    "\"Customerkey\". Ao verificar a quantidade distinta da coluna \"Customerkey\" é possivel verificar que a quantidade de ocorrencia é\n",
    "uma unidade a menos que a quantidade de linhas da tabela. Investigando mais a fundo os dois registro com a mesma \"Customerkey\" \n",
    "é possivel visulizar os campos \"Customer Type\" e \"Regional Sales Mgr\" possuem valores diferentes. Então eu considerei que o \n",
    "número total de clientes seria o número de linhas da tabela.\n",
    "\n",
    "'''\n",
    "spark.sql('''\n",
    "            SELECT \n",
    "            COUNT(*) AS Num_registros,\n",
    "            COUNT(DISTINCT CustomerKey) AS Num_CustomerKey\n",
    "            FROM vw_clientes\n",
    "        ''').show()"
   ]
  },
  {
   "cell_type": "code",
   "execution_count": 61,
   "metadata": {},
   "outputs": [
    {
     "name": "stdout",
     "output_type": "stream",
     "text": [
      "+-----------+------------+\n",
      "|CustomerKey|Num_clientes|\n",
      "+-----------+------------+\n",
      "|   10021911|           2|\n",
      "+-----------+------------+\n",
      "\n"
     ]
    }
   ],
   "source": [
    "spark.sql('''\n",
    "            SELECT\n",
    "            CustomerKey,\n",
    "            COUNT(Customer) AS Num_clientes\n",
    "            FROM vw_clientes\n",
    "            GROUP BY CustomerKey\n",
    "            HAVING COUNT(CustomerKey) > 1\n",
    "        ''').show()"
   ]
  },
  {
   "cell_type": "code",
   "execution_count": 62,
   "metadata": {},
   "outputs": [
    {
     "name": "stdout",
     "output_type": "stream",
     "text": [
      "+--------------+---------------+-------------+---------+-----------+-------------+--------+----------------+------------+-----------+------------------+-----------+\n",
      "|Address Number|Business Family|Business Unit| Customer|CustomerKey|Customer Type|Division|Line of Business|       Phone|Region Code|Regional Sales Mgr|Search Type|\n",
      "+--------------+---------------+-------------+---------+-----------+-------------+--------+----------------+------------+-----------+------------------+-----------+\n",
      "|      10021911|             R3|            1|PING Shop|   10021911|           G1|       2|              M1|816-455-8733|          2|               S19|          C|\n",
      "|      10021911|             R3|            1|Ping Shop|   10021911|           G2|       2|              M1|816-455-8733|          2|               S16|          C|\n",
      "+--------------+---------------+-------------+---------+-----------+-------------+--------+----------------+------------+-----------+------------------+-----------+\n",
      "\n"
     ]
    }
   ],
   "source": [
    "spark.sql('''\n",
    "            SELECT *  \n",
    "            FROM vw_clientes\n",
    "            where CustomerKey = '10021911' \n",
    "        ''').show()"
   ]
  },
  {
   "cell_type": "code",
   "execution_count": 76,
   "metadata": {},
   "outputs": [
    {
     "name": "stdout",
     "output_type": "stream",
     "text": [
      "+-------------+--------+\n",
      "|  Region Name|count(1)|\n",
      "+-------------+--------+\n",
      "|International|     299|\n",
      "|     Southern|     100|\n",
      "|      Central|     117|\n",
      "|       Canada|      37|\n",
      "|      Western|      89|\n",
      "|    Northeast|      42|\n",
      "+-------------+--------+\n",
      "\n"
     ]
    }
   ],
   "source": [
    "# REPOSTA PARA - QUANTOS CLIENTES TEMOS POR REGIÃO:\n",
    "spark.sql('''\n",
    "            SELECT \n",
    "            vw_regiao.`Region Name`,\n",
    "            COUNT(*)\n",
    "            FROM vw_clientes \n",
    "            INNER JOIN vw_regiao\n",
    "            ON vw_clientes.`Region Code` = vw_regiao.`Region Code`\n",
    "            GROUP BY vw_regiao.`Region Name`\n",
    "''').show()"
   ]
  },
  {
   "cell_type": "code",
   "execution_count": 78,
   "metadata": {},
   "outputs": [
    {
     "name": "stdout",
     "output_type": "stream",
     "text": [
      "+---------------+\n",
      "|Num_vendas_2018|\n",
      "+---------------+\n",
      "|          30560|\n",
      "+---------------+\n",
      "\n"
     ]
    }
   ],
   "source": [
    "# REPOSTA PARA - QUANTIDADE DE VENDAS EM 2018\n",
    "\n",
    "spark.sql('''\n",
    "        SELECT \n",
    "        COUNT(*) AS Num_vendas_2018\n",
    "        FROM vw_vendas\n",
    "        WHERE YEAR(DateKey) = 2018\n",
    "''').show()"
   ]
  },
  {
   "cell_type": "code",
   "execution_count": null,
   "metadata": {},
   "outputs": [],
   "source": []
  }
 ],
 "metadata": {
  "kernelspec": {
   "display_name": "PySpark",
   "language": "python",
   "name": "pyspark"
  },
  "language_info": {
   "codemirror_mode": {
    "name": "ipython",
    "version": 3
   },
   "file_extension": ".py",
   "mimetype": "text/x-python",
   "name": "python",
   "nbconvert_exporter": "python",
   "pygments_lexer": "ipython3",
   "version": "3.6.10"
  }
 },
 "nbformat": 4,
 "nbformat_minor": 2
}
